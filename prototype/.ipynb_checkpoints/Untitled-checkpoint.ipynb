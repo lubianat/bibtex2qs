{
 "cells": [
  {
   "cell_type": "code",
   "execution_count": 2,
   "metadata": {},
   "outputs": [],
   "source": [
    "bibtex = \"\"\"\n",
    "@article{lubiana2018science,\n",
    "  title={Science Family skills: An Alexa Assistant Tailored for Laboratory Routine},\n",
    "  author={Lubiana-Alves, Tiago and Nakaya, Helder I},\n",
    "  journal={BioRxiv},\n",
    "  pages={484147},\n",
    "  year={2018},\n",
    "  publisher={Cold Spring Harbor Laboratory}\n",
    "}\n",
    "\"\"\"\n",
    "\n",
    "with open('bibtex.bib', 'w') as bibfile:\n",
    "    bibfile.write(bibtex)"
   ]
  },
  {
   "cell_type": "code",
   "execution_count": 6,
   "metadata": {},
   "outputs": [
    {
     "name": "stdout",
     "output_type": "stream",
     "text": [
      "[{'publisher': 'Cold Spring Harbor Laboratory', 'year': '2018', 'pages': '484147', 'journal': 'BioRxiv', 'author': 'Lubiana-Alves, Tiago and Nakaya, Helder I', 'title': 'Science Family skills: An Alexa Assistant Tailored for Laboratory Routine', 'ENTRYTYPE': 'article', 'ID': 'lubiana2018science'}]\n"
     ]
    }
   ],
   "source": [
    "import bibtexparser\n",
    "\n",
    "with open('bibtex.bib') as bibtex_file:\n",
    "    bib_database = bibtexparser.load(bibtex_file)\n",
    "\n",
    "print(bib_database.entries)"
   ]
  },
  {
   "cell_type": "code",
   "execution_count": 8,
   "metadata": {},
   "outputs": [
    {
     "data": {
      "text/plain": [
       "{'publisher': 'Cold Spring Harbor Laboratory',\n",
       " 'year': '2018',\n",
       " 'pages': '484147',\n",
       " 'journal': 'BioRxiv',\n",
       " 'author': 'Lubiana-Alves, Tiago and Nakaya, Helder I',\n",
       " 'title': 'Science Family skills: An Alexa Assistant Tailored for Laboratory Routine',\n",
       " 'ENTRYTYPE': 'article',\n",
       " 'ID': 'lubiana2018science'}"
      ]
     },
     "execution_count": 8,
     "metadata": {},
     "output_type": "execute_result"
    }
   ],
   "source": [
    "bib_database.entries[0]"
   ]
  },
  {
   "cell_type": "code",
   "execution_count": 34,
   "metadata": {},
   "outputs": [],
   "source": [
    "\n",
    "class Article:\n",
    "    \n",
    "    def __init__(self, bibtex):\n",
    "\n",
    "        self.entry = bibtex\n",
    "        self.parse()\n",
    "    \n",
    "    def parse(self):\n",
    "        \n",
    "        self.year = \"+\" + str(self.entry[\"year\"]) + \"-00-00T00:00:00Z/9\"\n",
    "        self.title = self.entry[\"title\"]\n",
    "        \n",
    "    def print_qs(self):\n",
    "        \n",
    "        print(f\"\"\"\n",
    "        \n",
    "        CREATE\n",
    "        LAST|Len|{self.title}\n",
    "        LAST|Den|article published in {self.entry[\"year\"]}\n",
    "        LAST|P577|{self.year}\n",
    "        LAST|P1476|\"{self.title}\"\n",
    "        \n",
    "        \"\"\")\n"
   ]
  },
  {
   "cell_type": "code",
   "execution_count": 35,
   "metadata": {},
   "outputs": [],
   "source": [
    "alexa_article = Article(bib_database.entries[0])"
   ]
  },
  {
   "cell_type": "code",
   "execution_count": 36,
   "metadata": {},
   "outputs": [
    {
     "data": {
      "text/plain": [
       "'Science Family skills: An Alexa Assistant Tailored for Laboratory Routine'"
      ]
     },
     "execution_count": 36,
     "metadata": {},
     "output_type": "execute_result"
    }
   ],
   "source": [
    "alexa_article.title"
   ]
  },
  {
   "cell_type": "code",
   "execution_count": 37,
   "metadata": {},
   "outputs": [
    {
     "name": "stdout",
     "output_type": "stream",
     "text": [
      "\n",
      "        \n",
      "        CREATE\n",
      "        LAST|Len|Science Family skills: An Alexa Assistant Tailored for Laboratory Routine\n",
      "        LAST|Den|article published in 2018\n",
      "        LAST|P577|+2018-00-00T00:00:00Z/9\n",
      "        LAST|P1476|\"Science Family skills: An Alexa Assistant Tailored for Laboratory Routine\"\n",
      "        \n",
      "        \n"
     ]
    }
   ],
   "source": [
    "alexa_article.print_qs()"
   ]
  },
  {
   "cell_type": "code",
   "execution_count": null,
   "metadata": {},
   "outputs": [],
   "source": []
  }
 ],
 "metadata": {
  "kernelspec": {
   "display_name": "Python 3",
   "language": "python",
   "name": "python3"
  },
  "language_info": {
   "codemirror_mode": {
    "name": "ipython",
    "version": 3
   },
   "file_extension": ".py",
   "mimetype": "text/x-python",
   "name": "python",
   "nbconvert_exporter": "python",
   "pygments_lexer": "ipython3",
   "version": "3.6.9"
  }
 },
 "nbformat": 4,
 "nbformat_minor": 4
}
