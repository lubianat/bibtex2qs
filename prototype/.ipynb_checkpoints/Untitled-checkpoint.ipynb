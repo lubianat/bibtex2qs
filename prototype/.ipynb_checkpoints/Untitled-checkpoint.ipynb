{
 "cells": [
  {
   "cell_type": "code",
   "execution_count": 3,
   "metadata": {},
   "outputs": [
    {
     "name": "stdout",
     "output_type": "stream",
     "text": [
      "[{'journal': 'bioRxiv', 'eprint': 'https://www.biorxiv.org/content/early/2020/11/28/2020.11.27.368811.full.pdf', 'url': 'https://www.biorxiv.org/content/early/2020/11/28/2020.11.27.368811', 'abstract': 'Millions of Americans suffer from illnesses with non-existent or ineffective drug treatment. Identifying plausible drug candidates is a major barrier to drug development due to the large amount of time and resources required; approval can take years when people are suffering now. While computational tools can expedite drug candidate discovery, these tools typically require programming expertise that many biologists lack. Though biomedical databases continue to grow, they have proven difficult to integrate and maintain, and non-programming interfaces for these data sources are scarce and limited in capability. This creates an opportunity for us to present a suite of user-friendly software tools to aid computational discovery of novel treatments through de novo discovery or repurposing. Our tools eliminate the need for researchers to acquire computational expertise by integrating multiple databases and offering an intuitive graphical interface for analyzing these publicly available data. We built a computational knowledge graph focused on biomedical concepts related to drug discovery, designed visualization tools that allow users to explore complex relationships among entities in the graph, and served these tools through a free and user-friendly web interface. We show that users can conduct complex analyses with relative ease and that our knowledge graph and algorithms recover approved repurposed drugs. Our evaluation indicates that our method provides an intuitive, easy, and effective toolkit for discovering drug candidates. We show that our toolkit makes computational analysis for drug development more accessible and efficient and ultimately plays a role in bringing effective treatments to all patients.Our application is hosted at: https://biomedical-graph-visualizer.wl.r.appspot.com/Competing Interest StatementThe authors have declared no competing interest.', 'publisher': 'Cold Spring Harbor Laboratory', 'doi': '10.1101/2020.11.27.368811', 'year': '2020', 'elocation-id': '2020.11.27.368811', 'title': 'Biomedical Graph Visualizer for Identifying Drug Candidates', 'author': 'Teng, Ashton and Villanueva, Blanca and Jow, Derek and Huang, Shih-Cheng (Mars) and Piekos, Samantha N. and Altman, Russ B.', 'ENTRYTYPE': 'article', 'ID': 'Teng2020.11.27.368811'}]\n"
     ]
    }
   ],
   "source": [
    "import bibtexparser\n",
    "\n",
    "with open('bibtex.bib') as bibtex_file:\n",
    "    bib_database = bibtexparser.load(bibtex_file)\n",
    "\n",
    "print(bib_database.entries)"
   ]
  },
  {
   "cell_type": "code",
   "execution_count": 4,
   "metadata": {},
   "outputs": [
    {
     "data": {
      "text/plain": [
       "{'journal': 'bioRxiv',\n",
       " 'eprint': 'https://www.biorxiv.org/content/early/2020/11/28/2020.11.27.368811.full.pdf',\n",
       " 'url': 'https://www.biorxiv.org/content/early/2020/11/28/2020.11.27.368811',\n",
       " 'abstract': 'Millions of Americans suffer from illnesses with non-existent or ineffective drug treatment. Identifying plausible drug candidates is a major barrier to drug development due to the large amount of time and resources required; approval can take years when people are suffering now. While computational tools can expedite drug candidate discovery, these tools typically require programming expertise that many biologists lack. Though biomedical databases continue to grow, they have proven difficult to integrate and maintain, and non-programming interfaces for these data sources are scarce and limited in capability. This creates an opportunity for us to present a suite of user-friendly software tools to aid computational discovery of novel treatments through de novo discovery or repurposing. Our tools eliminate the need for researchers to acquire computational expertise by integrating multiple databases and offering an intuitive graphical interface for analyzing these publicly available data. We built a computational knowledge graph focused on biomedical concepts related to drug discovery, designed visualization tools that allow users to explore complex relationships among entities in the graph, and served these tools through a free and user-friendly web interface. We show that users can conduct complex analyses with relative ease and that our knowledge graph and algorithms recover approved repurposed drugs. Our evaluation indicates that our method provides an intuitive, easy, and effective toolkit for discovering drug candidates. We show that our toolkit makes computational analysis for drug development more accessible and efficient and ultimately plays a role in bringing effective treatments to all patients.Our application is hosted at: https://biomedical-graph-visualizer.wl.r.appspot.com/Competing Interest StatementThe authors have declared no competing interest.',\n",
       " 'publisher': 'Cold Spring Harbor Laboratory',\n",
       " 'doi': '10.1101/2020.11.27.368811',\n",
       " 'year': '2020',\n",
       " 'elocation-id': '2020.11.27.368811',\n",
       " 'title': 'Biomedical Graph Visualizer for Identifying Drug Candidates',\n",
       " 'author': 'Teng, Ashton and Villanueva, Blanca and Jow, Derek and Huang, Shih-Cheng (Mars) and Piekos, Samantha N. and Altman, Russ B.',\n",
       " 'ENTRYTYPE': 'article',\n",
       " 'ID': 'Teng2020.11.27.368811'}"
      ]
     },
     "execution_count": 4,
     "metadata": {},
     "output_type": "execute_result"
    }
   ],
   "source": [
    "bib_database.entries[0]"
   ]
  },
  {
   "cell_type": "code",
   "execution_count": 5,
   "metadata": {},
   "outputs": [],
   "source": [
    "\n",
    "class Article:\n",
    "    \n",
    "    def __init__(self, bibtex):\n",
    "\n",
    "        self.entry = bibtex\n",
    "        self.parse()\n",
    "    \n",
    "    def parse(self):\n",
    "        \n",
    "        self.year = \"+\" + str(self.entry[\"year\"]) + \"-00-00T00:00:00Z/9\"\n",
    "        self.title = self.entry[\"title\"]\n",
    "        \n",
    "        if self.entry[\"journal\"] = \"bioRxiv\":\n",
    "            self.journal = \"Q19835482\"\n",
    "        else:\n",
    "            self.journal = \"\"\n",
    "\n",
    "            \n",
    "\n",
    "    def print_qs(self):\n",
    "        \n",
    "        print(f\"\"\"\n",
    "        \n",
    "        CREATE\n",
    "        LAST|Len|{self.title}\n",
    "        LAST|Den|article published in {self.entry[\"year\"]}\n",
    "        LAST|P577|{self.year}\n",
    "        LAST|P1476|\"{self.title}\"\n",
    "        \n",
    "        \"\"\")\n"
   ]
  },
  {
   "cell_type": "code",
   "execution_count": 6,
   "metadata": {},
   "outputs": [],
   "source": [
    "alexa_article = Article(bib_database.entries[0])"
   ]
  },
  {
   "cell_type": "code",
   "execution_count": 7,
   "metadata": {},
   "outputs": [
    {
     "data": {
      "text/plain": [
       "'Biomedical Graph Visualizer for Identifying Drug Candidates'"
      ]
     },
     "execution_count": 7,
     "metadata": {},
     "output_type": "execute_result"
    }
   ],
   "source": [
    "alexa_article.title"
   ]
  },
  {
   "cell_type": "code",
   "execution_count": 8,
   "metadata": {},
   "outputs": [
    {
     "name": "stdout",
     "output_type": "stream",
     "text": [
      "\n",
      "        \n",
      "        CREATE\n",
      "        LAST|Len|Biomedical Graph Visualizer for Identifying Drug Candidates\n",
      "        LAST|Den|article published in 2020\n",
      "        LAST|P577|+2020-00-00T00:00:00Z/9\n",
      "        LAST|P1476|\"Biomedical Graph Visualizer for Identifying Drug Candidates\"\n",
      "        \n",
      "        \n"
     ]
    }
   ],
   "source": [
    "alexa_article.print_qs()"
   ]
  },
  {
   "cell_type": "code",
   "execution_count": null,
   "metadata": {},
   "outputs": [],
   "source": []
  }
 ],
 "metadata": {
  "kernelspec": {
   "display_name": "Python 3",
   "language": "python",
   "name": "python3"
  },
  "language_info": {
   "codemirror_mode": {
    "name": "ipython",
    "version": 3
   },
   "file_extension": ".py",
   "mimetype": "text/x-python",
   "name": "python",
   "nbconvert_exporter": "python",
   "pygments_lexer": "ipython3",
   "version": "3.6.9"
  }
 },
 "nbformat": 4,
 "nbformat_minor": 4
}
