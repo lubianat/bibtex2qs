{
 "cells": [
  {
   "cell_type": "code",
   "execution_count": 2,
   "metadata": {},
   "outputs": [
    {
     "output_type": "stream",
     "name": "stdout",
     "text": [
      "[{'publisher': 'University of California Press', 'year': '2020', 'pages': '429--433', 'number': '6', 'volume': '82', 'journal': 'The American Biology Teacher', 'author': 'Allchin, Douglas', 'title': 'The Covid-19 Conundrum', 'ENTRYTYPE': 'article', 'ID': 'allchin2020covid'}]\n"
     ]
    }
   ],
   "source": [
    "import bibtexparser\n",
    "\n",
    "with open('bibtex.bib') as bibtex_file:\n",
    "    bib_database = bibtexparser.load(bibtex_file)\n",
    "\n",
    "print(bib_database.entries)"
   ]
  },
  {
   "cell_type": "code",
   "execution_count": 3,
   "metadata": {},
   "outputs": [
    {
     "output_type": "execute_result",
     "data": {
      "text/plain": [
       "{'publisher': 'University of California Press',\n",
       " 'year': '2020',\n",
       " 'pages': '429--433',\n",
       " 'number': '6',\n",
       " 'volume': '82',\n",
       " 'journal': 'The American Biology Teacher',\n",
       " 'author': 'Allchin, Douglas',\n",
       " 'title': 'The Covid-19 Conundrum',\n",
       " 'ENTRYTYPE': 'article',\n",
       " 'ID': 'allchin2020covid'}"
      ]
     },
     "metadata": {},
     "execution_count": 3
    }
   ],
   "source": [
    "bib_database.entries[0]"
   ]
  },
  {
   "cell_type": "code",
   "execution_count": 36,
   "metadata": {},
   "outputs": [],
   "source": [
    "\n",
    "class Article:\n",
    "    \n",
    "    def __init__(self, bibtex):\n",
    "\n",
    "        self.entry = bibtex\n",
    "        self.parse()\n",
    "    \n",
    "    def parse(self):\n",
    "        \n",
    "        self.year = \"+\" + str(self.entry[\"year\"]) + \"-00-00T00:00:00Z/9\"\n",
    "        self.title = self.entry[\"title\"]\n",
    "        \n",
    "        if self.entry[\"journal\"] == \"bioRxiv\":\n",
    "            self.journal = \"Q19835482\"\n",
    "        elif self.entry[\"journal\"] == \"The American Biology Teacher\":        \n",
    "            self.journal = \"Q1889034\"\n",
    "        else:\n",
    "            self.journal = \"\"\n",
    "        \n",
    "        \n",
    "        try: \n",
    "            self.fulltext = self.entry[\"url\"]\n",
    "        except:\n",
    "            self.fulltext = \"\"\n",
    "\n",
    "        try: \n",
    "            self.volume = self.entry[\"volume\"]\n",
    "        except:\n",
    "            self.volume = \"\"\n",
    "\n",
    "        try: \n",
    "            self.issue = self.entry[\"number\"]\n",
    "        except:\n",
    "            self.issue = \"\"\n",
    "\n",
    "        \n",
    "\n",
    "            \n",
    "\n",
    "    def print_qs(self):\n",
    "        \n",
    "        print(f\"\"\"\n",
    "        \n",
    "CREATE\n",
    "LAST|Len|\"{self.title}\"\n",
    "LAST|Den|\"article published in {self.entry[\"year\"]}\"]\n",
    "LAST|P31|Q13442814\n",
    "LAST|P577|{self.year}\n",
    "LAST|P478|\"{self.volume}\"\n",
    "LAST|P433|\"{self.issue}\"\n",
    "        \n",
    "        \"\"\")\n"
   ]
  },
  {
   "cell_type": "code",
   "execution_count": 37,
   "metadata": {},
   "outputs": [],
   "source": [
    "art = Article(bib_database.entries[0])"
   ]
  },
  {
   "cell_type": "code",
   "execution_count": 38,
   "metadata": {},
   "outputs": [
    {
     "output_type": "stream",
     "name": "stdout",
     "text": [
      "\n        \nCREATE\nLAST|Len|\"The Covid-19 Conundrum\"\nLAST|Den|\"article published in 2020\"\nLAST|P577|+2020-00-00T00:00:00Z/9\nLAST|P478|\"82\"\nLAST|P433|\"6\"\n        \n        \n"
     ]
    }
   ],
   "source": [
    "art.print_qs()"
   ]
  },
  {
   "cell_type": "code",
   "execution_count": null,
   "metadata": {},
   "outputs": [],
   "source": []
  }
 ],
 "metadata": {
  "kernelspec": {
   "display_name": "Python 3",
   "language": "python",
   "name": "python3"
  },
  "language_info": {
   "codemirror_mode": {
    "name": "ipython",
    "version": 3
   },
   "file_extension": ".py",
   "mimetype": "text/x-python",
   "name": "python",
   "nbconvert_exporter": "python",
   "pygments_lexer": "ipython3",
   "version": "3.9.0-final"
  }
 },
 "nbformat": 4,
 "nbformat_minor": 4
}